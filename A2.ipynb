{
  "cells": [
    {
      "cell_type": "markdown",
      "metadata": {
        "colab_type": "text",
        "id": "view-in-github"
      },
      "source": [
        "<a href=\"https://colab.research.google.com/github/saharaKaulPersonal/CMPUT200AS2/blob/main/A2.ipynb\" target=\"_parent\"><img src=\"https://colab.research.google.com/assets/colab-badge.svg\" alt=\"Open In Colab\"/></a>"
      ]
    },
    {
      "cell_type": "markdown",
      "metadata": {
        "deletable": false,
        "editable": false,
        "id": "wZYSCsMz1QR4",
        "nbgrader": {
          "cell_type": "markdown",
          "checksum": "9d2c9365d570e3b4138e56a3d1d0763c",
          "grade": false,
          "grade_id": "cell-1f14a43b85d09320",
          "locked": true,
          "schema_version": 3,
          "solution": false,
          "task": false
        }
      },
      "source": [
        "<!-- # CMPUT 200 Fall 2024  Ethics of Data Science and AI\n",
        " -->\n",
        "# Assignment 2: Fairness Analysis of a Dataset"
      ]
    },
    {
      "cell_type": "markdown",
      "metadata": {
        "id": "e9M7VIZWdu41"
      },
      "source": [
        "***\n",
        "- **FIRST name**: Sahara\n",
        "- **LAST name**: Kaul\n",
        "- **Student ID**: 1755524\n",
        "- **Dataset**: loan.csv\n",
        "\n",
        "Leave blank if individual:\n",
        "- **Group member names**: Kevin Wan\n",
        "- **Group member student IDs**: 1525871\n",
        "***"
      ]
    },
    {
      "cell_type": "markdown",
      "metadata": {
        "deletable": false,
        "editable": false,
        "id": "YBroUveHdu41",
        "nbgrader": {
          "cell_type": "markdown",
          "checksum": "ef3778888a8185b64a323b133a8adcde",
          "grade": false,
          "grade_id": "cell-90d792391597de0c",
          "locked": true,
          "schema_version": 3,
          "solution": false,
          "task": false
        }
      },
      "source": [
        "In this assignment, you will explore the different fairness metrics learnt in class using a dataset of your choice. Before beginning, you will have to inspect the data and determine the variable of interest (i.e. the outcome) and at least two sensitive features. After each step of your analysis, you will write an in-depth analysis of your results.\n",
        "\n",
        "This notebook has four stages in which we will:\n",
        "1. Import the data, implement a few pre-processing steps, and inspect the data\n",
        "2. Run a short exploratory analysis of the primary variable of interest of your dataset\n",
        "3. Reproduce the logistic regression model  and interpret the estimates\n",
        "4. Compute the predictive accuracy of the risk score labels\n",
        "\n",
        "### Instructions\n",
        "<!-- **Deadline.**  This assignment is due at ****.  Please check the syllabus for late submissions. -->\n",
        "You are expected to write clear, detailed, and complete answers when analysing your data. Lack of this may result in point deductions.\n",
        "\n",
        "**Reminder.** You must submit your own work.  The collaboration policy for the assignments is Consultation Collaboration. You may verbally discuss concepts with your classmates, without exchanging written text, code, or detailed advice.  You must develop your own solution and **submit your own work**.  This means that you **cannot** get your solution from AI tools.   All sources of information used including books, websites, students you talked to, must be cited in the submission.  Please see the course FAQ document for details on this collaboration policy.  We will adhere to current Faculty of Science guidelines on dealing with suspected cases of plagiarism.\n",
        "\n",
        "You must use this notebook to complete your assignment. You will execute the questions in the notebook. The questions might ask for a short answer in text form or for you to write and execute a piece of code. Make sure you enter your answer in either case only in the cell provided. Do not use a different cell and do not create a new cell. Creating new cells for your code is not compatible with the auto-grading system we are using and thus your assignment will not get grading properly and you will lose marks for that question.\n",
        "\n",
        "Your submitted notebook should run on our local installation.  So if you are importing packages not listed in the notebook or using local data files not included in the assignment package, make sure the notebook is self-contained with a requirements.txt file or cells in the notebook itself to install the extra packages.  If we cannot run your notebook, you will lose 50% of the marks, and any additional marks that may be lost due to wrong answers.\n",
        "\n",
        "### Submission Instructions\n",
        "When you are done, you will submit your work from the notebook. Make sure to save your notebook before running it, and then submit on Canvas the notebook file with your work completed. Name your file with your **Student ID number** and the assignment number (ex: 1234567_A2.ipynb). Failure to do so will result in a zero!"
      ]
    },
    {
      "cell_type": "code",
      "execution_count": 1,
      "metadata": {
        "deletable": false,
        "editable": false,
        "id": "ZfrPg4x30DDJ",
        "nbgrader": {
          "cell_type": "code",
          "checksum": "b7c09601444fbcee6d56e3e3065e1cb0",
          "grade": false,
          "grade_id": "cell-96ada4da5a0ad7f4",
          "locked": true,
          "schema_version": 3,
          "solution": false,
          "task": false
        },
        "tags": []
      },
      "outputs": [],
      "source": [
        "# Don't change this cell; just run it.\n",
        "import numpy as np\n",
        "from numpy.random import default_rng\n",
        "import pandas as pd\n",
        "from scipy.optimize import minimize\n",
        "import statsmodels.api as sm\n",
        "\n",
        "# These lines do some fancy plotting magic.\n",
        "import matplotlib\n",
        "# This is a magic function that renders the figure in the notebook, instead of displaying a dump of the figure object.\n",
        "%matplotlib inline\n",
        "import matplotlib.pyplot as plt\n",
        "plt.style.use('fivethirtyeight')\n",
        "import seaborn as sns\n",
        "import warnings\n",
        "warnings.simplefilter('ignore', FutureWarning)"
      ]
    },
    {
      "cell_type": "code",
      "execution_count": 2,
      "metadata": {
        "deletable": false,
        "editable": false,
        "id": "Evb1ew8P1yp8",
        "nbgrader": {
          "cell_type": "code",
          "checksum": "eb14e4d27fbbaf39f3f6bdf1c41a2d3b",
          "grade": false,
          "grade_id": "cell-1379add19442788f",
          "locked": true,
          "schema_version": 3,
          "solution": false,
          "task": false
        }
      },
      "outputs": [],
      "source": [
        "# Don't change this cell; just run it.\n",
        "rng_seed = 42\n",
        "rng = default_rng(rng_seed)\n",
        "rngstate = np.random.RandomState(rng_seed)"
      ]
    },
    {
      "cell_type": "markdown",
      "metadata": {
        "deletable": false,
        "editable": false,
        "id": "B9tpbJze1yp9",
        "nbgrader": {
          "cell_type": "markdown",
          "checksum": "b0a801d9a9088efbf0836db0e0c149a7",
          "grade": false,
          "grade_id": "cell-608b2701efa9f27f",
          "locked": true,
          "schema_version": 3,
          "solution": false,
          "task": false
        },
        "tags": []
      },
      "source": [
        "## Data\n",
        "**Question 1.** We will first load the data, carry out some cleaning and pre-processing, and inspect the data to understand what exploratory steps we will take. Name the DataFrame `df_init`."
      ]
    },
    {
      "cell_type": "code",
      "execution_count": 3,
      "metadata": {
        "colab": {
          "base_uri": "https://localhost:8080/",
          "height": 223
        },
        "deletable": false,
        "id": "Hl4s47-Y1yp-",
        "nbgrader": {
          "cell_type": "code",
          "checksum": "d4aa28d6bc7053b55a4733452a3b726e",
          "grade": false,
          "grade_id": "cell-07068cc9e0a486b8",
          "locked": false,
          "schema_version": 3,
          "solution": true,
          "task": false
        },
        "outputId": "a517f87d-db9c-484b-febc-76c98634c038"
      },
      "outputs": [
        {
          "name": "stdout",
          "output_type": "stream",
          "text": [
            "Shape:  (61, 8)\n"
          ]
        },
        {
          "data": {
            "text/html": [
              "<div>\n",
              "<style scoped>\n",
              "    .dataframe tbody tr th:only-of-type {\n",
              "        vertical-align: middle;\n",
              "    }\n",
              "\n",
              "    .dataframe tbody tr th {\n",
              "        vertical-align: top;\n",
              "    }\n",
              "\n",
              "    .dataframe thead th {\n",
              "        text-align: right;\n",
              "    }\n",
              "</style>\n",
              "<table border=\"1\" class=\"dataframe\">\n",
              "  <thead>\n",
              "    <tr style=\"text-align: right;\">\n",
              "      <th></th>\n",
              "      <th>age</th>\n",
              "      <th>gender</th>\n",
              "      <th>occupation</th>\n",
              "      <th>education_level</th>\n",
              "      <th>marital_status</th>\n",
              "      <th>income</th>\n",
              "      <th>credit_score</th>\n",
              "      <th>loan_status</th>\n",
              "    </tr>\n",
              "  </thead>\n",
              "  <tbody>\n",
              "    <tr>\n",
              "      <th>0</th>\n",
              "      <td>32</td>\n",
              "      <td>Male</td>\n",
              "      <td>Engineer</td>\n",
              "      <td>Bachelor's</td>\n",
              "      <td>Married</td>\n",
              "      <td>85000</td>\n",
              "      <td>720</td>\n",
              "      <td>Approved</td>\n",
              "    </tr>\n",
              "    <tr>\n",
              "      <th>1</th>\n",
              "      <td>45</td>\n",
              "      <td>Female</td>\n",
              "      <td>Teacher</td>\n",
              "      <td>Master's</td>\n",
              "      <td>Single</td>\n",
              "      <td>62000</td>\n",
              "      <td>680</td>\n",
              "      <td>Approved</td>\n",
              "    </tr>\n",
              "    <tr>\n",
              "      <th>2</th>\n",
              "      <td>28</td>\n",
              "      <td>Male</td>\n",
              "      <td>Student</td>\n",
              "      <td>High School</td>\n",
              "      <td>Single</td>\n",
              "      <td>25000</td>\n",
              "      <td>590</td>\n",
              "      <td>Denied</td>\n",
              "    </tr>\n",
              "    <tr>\n",
              "      <th>3</th>\n",
              "      <td>51</td>\n",
              "      <td>Female</td>\n",
              "      <td>Manager</td>\n",
              "      <td>Bachelor's</td>\n",
              "      <td>Married</td>\n",
              "      <td>105000</td>\n",
              "      <td>780</td>\n",
              "      <td>Approved</td>\n",
              "    </tr>\n",
              "    <tr>\n",
              "      <th>4</th>\n",
              "      <td>36</td>\n",
              "      <td>Male</td>\n",
              "      <td>Accountant</td>\n",
              "      <td>Bachelor's</td>\n",
              "      <td>Married</td>\n",
              "      <td>75000</td>\n",
              "      <td>710</td>\n",
              "      <td>Approved</td>\n",
              "    </tr>\n",
              "  </tbody>\n",
              "</table>\n",
              "</div>"
            ],
            "text/plain": [
              "   age  gender  occupation education_level marital_status  income  \\\n",
              "0   32    Male    Engineer      Bachelor's        Married   85000   \n",
              "1   45  Female     Teacher        Master's         Single   62000   \n",
              "2   28    Male     Student     High School         Single   25000   \n",
              "3   51  Female     Manager      Bachelor's        Married  105000   \n",
              "4   36    Male  Accountant      Bachelor's        Married   75000   \n",
              "\n",
              "   credit_score loan_status  \n",
              "0           720    Approved  \n",
              "1           680    Approved  \n",
              "2           590      Denied  \n",
              "3           780    Approved  \n",
              "4           710    Approved  "
            ]
          },
          "execution_count": 3,
          "metadata": {},
          "output_type": "execute_result"
        }
      ],
      "source": [
        "# YOUR CODE HERE\n",
        "df_init = pd.read_csv(\"loan.csv\")\n",
        "\n",
        "print(\"Shape: \", df_init.shape)\n",
        "df_init.head(5)"
      ]
    },
    {
      "cell_type": "markdown",
      "metadata": {
        "deletable": false,
        "editable": false,
        "id": "6iTxSAoedu43",
        "nbgrader": {
          "cell_type": "markdown",
          "checksum": "3ffe859faa8fe365892315bb0c5a15cd",
          "grade": false,
          "grade_id": "cell-0dd6cdc476fa86d7",
          "locked": true,
          "schema_version": 3,
          "solution": false,
          "task": false
        }
      },
      "source": [
        "**Question 1.1.** Describe your data and its purpose. What are the sensitive variables, features, and target variables? Are there any latent variables?"
      ]
    },
    {
      "cell_type": "markdown",
      "metadata": {
        "deletable": false,
        "id": "op6wZeEjdu43",
        "nbgrader": {
          "cell_type": "markdown",
          "checksum": "6290c9f6c23c3491ccb33c0fc2cc7fc6",
          "grade": true,
          "grade_id": "cell-fdbb4abf71f1ad23",
          "locked": false,
          "points": 10,
          "schema_version": 3,
          "solution": true,
          "task": false
        }
      },
      "source": [
        "The dataset includes columns about age, gender, occupation education, martial status, income, credit score and loan status. There are 61 rows. The dataset is used to examine who gets approved for a loan and who get denied. The sensitive variables are  credit score, marital status, income and gender. The features are credit score, income, marital status, education level, occupation, gender, age. The target variable is loan status. There are no latent variables in this dataset"
      ]
    },
    {
      "cell_type": "markdown",
      "metadata": {
        "deletable": false,
        "editable": false,
        "id": "XpsRJ_2rdu43",
        "nbgrader": {
          "cell_type": "markdown",
          "checksum": "d049277444f43978f6adb3af2b240da7",
          "grade": false,
          "grade_id": "cell-08671be97520844c",
          "locked": true,
          "schema_version": 3,
          "solution": false,
          "task": false
        }
      },
      "source": [
        "It is crucial, in every data analysis project, to have a good understanding of the data.  This includes:  how the data was collected, what sources the data originate from, how data were merged, what the data columns refer to, etc.  \n",
        "\n",
        "**Question 2.** Do some investigating online about your dataset. Do they provide a methodology on how the data was collected? How was it analysed? Describe your findings below. (If your data does not have a methodology, describe how you would collect and analyse the data yourself).\n"
      ]
    },
    {
      "cell_type": "markdown",
      "metadata": {
        "deletable": false,
        "id": "qc_gkr_q1yqA",
        "nbgrader": {
          "cell_type": "markdown",
          "checksum": "ec5ee29afc7fb4fd1323947d05a8c28c",
          "grade": true,
          "grade_id": "cell-bab795b4d2e8f91a",
          "locked": false,
          "points": 10,
          "schema_version": 3,
          "solution": true,
          "task": false
        }
      },
      "source": [
        "The dataset comes from this link:\n",
        "https://www.kaggle.com/datasets/sujithmandala/simple-loan-classification-dataset/data\n",
        "\n",
        "There is no information on how the data was collected. I assume that banks would save the data on their loan applicants, which is where data like this would come from. Otherwise, you could survey people who have recently applied to loans, although you would have to account for many different biases. To analyze, encode the data into numerical values if needed, ignore the sensitive information, and run machine learning algorithms such as regression."
      ]
    },
    {
      "cell_type": "markdown",
      "metadata": {
        "deletable": false,
        "editable": false,
        "id": "fHhY4dkx1yqB",
        "nbgrader": {
          "cell_type": "markdown",
          "checksum": "8d2fa41b13970292eba36a24b196dcef",
          "grade": false,
          "grade_id": "cell-90670bb121b85bdc",
          "locked": true,
          "schema_version": 3,
          "solution": false,
          "task": false
        }
      },
      "source": [
        "### Data pre-processing\n",
        "**Question 3.** You will now follow your dataset's methodology in pre-processing the data.  Note that your data may not be already filtered, so there may be rows that are not needed or missing values (NaN).  In your pre-processing, first retain only relevant columns for ease of analysis and inspection.  Relevant columns are those that you will need for analysis in this assignment - please read the whole assignment once over to determine which columns to retain.   You will need to retain all columns with sensitive features, the output columns, and other columns that contain features needed for the analysis.  Remember, it's always a good idea to check first all the columns and do any investigation into your dataset, like you were asked in Question 2.  Once you've retained the columns you want, remove the rows that are missing data (if needed).  \n",
        "\n",
        "Next, determine if you have to do any more filtering (e.g. maybe you only want to consider individuals between 20 and 30 years old). Also decide if there are any any values that you want to remove (e.g. maybe you want to remove people classified as '0' for a medical condition)."
      ]
    },
    {
      "cell_type": "code",
      "execution_count": null,
      "metadata": {
        "deletable": false,
        "id": "ixPrae1q1yqB",
        "nbgrader": {
          "cell_type": "code",
          "checksum": "f81c8bd80c42b8dbac3fcaed342129e1",
          "grade": true,
          "grade_id": "cell-c47d3306e95b25dc",
          "locked": false,
          "points": 5,
          "schema_version": 3,
          "solution": true,
          "task": false
        }
      },
      "outputs": [],
      "source": [
        "cols_retain = [\"gender\", \"marital_status\", \"income\", \"credit_score\", \"age\", \"loan_status\"]\n",
        "\n",
        "# YOUR CODE HERE\n",
        "raise NotImplementedError()\n"
      ]
    },
    {
      "cell_type": "markdown",
      "metadata": {
        "deletable": false,
        "editable": false,
        "id": "WGZVZX0E1yqD",
        "nbgrader": {
          "cell_type": "markdown",
          "checksum": "18184049dd3cda7b1f544dd8bf228627",
          "grade": false,
          "grade_id": "cell-7c9c7917b17b0ba7",
          "locked": true,
          "schema_version": 3,
          "solution": false,
          "task": false
        }
      },
      "source": [
        "**Question 3.1.** We will be working with your dataset's variable of interest, which is the output, or label.  You would have determined what this should be in the previous questions.  Let's first be certain the values are numeric.  You would use `pd.to_numeric`.  Note that there might be NaN values, and if so, you should drop those rows."
      ]
    },
    {
      "cell_type": "code",
      "execution_count": null,
      "metadata": {
        "deletable": false,
        "id": "0URetjeg1yqD",
        "nbgrader": {
          "cell_type": "code",
          "checksum": "3ed87d971cf253ada3dc13faa1dfa937",
          "grade": true,
          "grade_id": "cell-60cfc6c1d96486cb",
          "locked": false,
          "points": 2,
          "schema_version": 3,
          "solution": true,
          "task": false
        }
      },
      "outputs": [],
      "source": [
        "# YOUR CODE HERE\n",
        "raise NotImplementedError()\n"
      ]
    },
    {
      "cell_type": "markdown",
      "metadata": {
        "deletable": false,
        "editable": false,
        "id": "p4LpFSX-1yqF",
        "nbgrader": {
          "cell_type": "markdown",
          "checksum": "cb030e90bfda8e48ab337fd9f49fe3ff",
          "grade": false,
          "grade_id": "cell-703cb5823587e7c6",
          "locked": true,
          "schema_version": 3,
          "solution": false,
          "task": false
        }
      },
      "source": [
        "### Data exploration\n",
        "Let us now explore the statistics of the data.  Your data contains a variable of interest, which is the output.  Our goal is to compare the analysis of these outputs with the outputs of a logistic regression model we will build ourselves.\n",
        "\n",
        "We will plot the distribution of the variable of interest according to the first sensitive feature (that you defined in question 1) to see how it differs across different subgroups."
      ]
    },
    {
      "cell_type": "markdown",
      "metadata": {
        "deletable": false,
        "editable": false,
        "id": "r3N65O3H1yqF",
        "nbgrader": {
          "cell_type": "markdown",
          "checksum": "6ed69f239caf65600f9f8cf76d8370ff",
          "grade": false,
          "grade_id": "cell-9a196a293ab8f23f",
          "locked": true,
          "schema_version": 3,
          "solution": false,
          "task": false
        },
        "tags": []
      },
      "source": [
        "**Question 4.** Let's first create dataframes that are specific to the different subgroups of your sensitive variable.  First choose In the cell below, create the new dataframes `df_1` and `df_2` so that `df_1` holds all the rows that correspond to the first subgroup and `df_2` holds all the rows that correspond to the second subgroup. If there are more than 2 subgroups, find a way to categorize them into two categories. You may change the names so that it's more specific to your dataset."
      ]
    },
    {
      "cell_type": "code",
      "execution_count": null,
      "metadata": {
        "deletable": false,
        "id": "J33m1a271yqF",
        "nbgrader": {
          "cell_type": "code",
          "checksum": "20cfdc829859f0aab1ddac8e8727f1c6",
          "grade": true,
          "grade_id": "cell-61ed970094d68f24",
          "locked": false,
          "points": 5,
          "schema_version": 3,
          "solution": true,
          "task": false
        }
      },
      "outputs": [],
      "source": [
        "# YOUR CODE HERE\n",
        "raise NotImplementedError()"
      ]
    },
    {
      "cell_type": "markdown",
      "metadata": {
        "deletable": false,
        "editable": false,
        "id": "gdHtELIO1yqH",
        "nbgrader": {
          "cell_type": "markdown",
          "checksum": "7d3a9feaa3a7e0c1d5ef7371029ab91f",
          "grade": false,
          "grade_id": "cell-c6bb1f208ede838b",
          "locked": true,
          "schema_version": 3,
          "solution": false,
          "task": false
        }
      },
      "source": [
        "**Question 4.1.** Now we will plot histograms for these new dataframes.  The histogram will have the variable of interest (output varialbe) on the x axis, n bins corresponding to the n values possible. The y axis will be the _proportion_ of individuals of each subgroup that have that variable of interest.  So the y values for each subgroup will be the number of individuals having a given value divided by the total number of individuals of that subgroup.\n",
        "\n",
        "You can choose how you want to represent the histograms:  separate sub plots side by side, or all on one plot with different colours each, etc.  The axis limits should be same on both plots (same scale) and the plots should have appropriate titles, axis labels, and if needed a legend."
      ]
    },
    {
      "cell_type": "code",
      "execution_count": null,
      "metadata": {
        "deletable": false,
        "id": "lwb8Lnjc1yqH",
        "nbgrader": {
          "cell_type": "code",
          "checksum": "958d2d2a30a95cc6a8b844a436cc3242",
          "grade": true,
          "grade_id": "cell-a7dbf4cfa6cfa7e2",
          "locked": false,
          "points": 10,
          "schema_version": 3,
          "solution": true,
          "task": false
        }
      },
      "outputs": [],
      "source": [
        "# YOUR CODE HERE\n",
        "raise NotImplementedError()\n",
        "\n",
        "plt.show()"
      ]
    },
    {
      "cell_type": "markdown",
      "metadata": {
        "deletable": false,
        "editable": false,
        "id": "4Jkd0_8idu44",
        "nbgrader": {
          "cell_type": "markdown",
          "checksum": "19c700876c31a9631d00853152d904d2",
          "grade": false,
          "grade_id": "cell-440b3e559210ad0e",
          "locked": true,
          "schema_version": 3,
          "solution": false,
          "task": false
        }
      },
      "source": [
        "**Question 4.2.** Describe the plots, especially any differences you see between them.  What does this tell you about the distribution of the variable of interest with respect to the sensitive feature?"
      ]
    },
    {
      "cell_type": "markdown",
      "metadata": {
        "deletable": false,
        "id": "aZiLZ2Fy1yqI",
        "nbgrader": {
          "cell_type": "markdown",
          "checksum": "91cfd4394c3563f0731fd249dab49572",
          "grade": true,
          "grade_id": "cell-7d4251c235f7bba7",
          "locked": false,
          "points": 5,
          "schema_version": 3,
          "solution": true,
          "task": false
        }
      },
      "source": [
        "YOUR ANSWER HERE"
      ]
    },
    {
      "cell_type": "markdown",
      "metadata": {
        "deletable": false,
        "editable": false,
        "id": "LtLUKr8D1yqJ",
        "nbgrader": {
          "cell_type": "markdown",
          "checksum": "057d29d8917b9aa056ba0e3d29ce3266",
          "grade": false,
          "grade_id": "cell-6fbfd672d5be9c0b",
          "locked": true,
          "schema_version": 3,
          "solution": false,
          "task": false
        }
      },
      "source": [
        "We will now consider the second sensitive feature.  Follow the same steps as above."
      ]
    },
    {
      "cell_type": "markdown",
      "metadata": {
        "deletable": false,
        "editable": false,
        "id": "ArFMSbSM1yqJ",
        "nbgrader": {
          "cell_type": "markdown",
          "checksum": "bc19fcce851511e3ad8295d52b18c821",
          "grade": false,
          "grade_id": "cell-894dd6f08c7bc1de",
          "locked": true,
          "schema_version": 3,
          "solution": false,
          "task": false
        },
        "tags": []
      },
      "source": [
        "**Question 5.** Create dataframes that are specific to the subgroups for your second sensitive feature.  In the cell below, create the new dataframes `df_a` and `df_b` so that `df_a` holds all the rows that correspond to the first subgroup and `df_b` holds all the rows that correspond to the second subgroup. If there are more than 2 subgroups, find a way to categorize them into two categories. You may change the names so that it's more specific to your dataset."
      ]
    },
    {
      "cell_type": "code",
      "execution_count": null,
      "metadata": {
        "deletable": false,
        "id": "umvtfb-T1yqK",
        "nbgrader": {
          "cell_type": "code",
          "checksum": "a44100339999e3133784650482205ebd",
          "grade": true,
          "grade_id": "cell-d0aaf9a2a0b3fb55",
          "locked": false,
          "points": 5,
          "schema_version": 3,
          "solution": true,
          "task": false
        }
      },
      "outputs": [],
      "source": [
        "# YOUR CODE HERE\n",
        "raise NotImplementedError()"
      ]
    },
    {
      "cell_type": "markdown",
      "metadata": {
        "deletable": false,
        "editable": false,
        "id": "g7-3kHSO1yqL",
        "nbgrader": {
          "cell_type": "markdown",
          "checksum": "23d82963068d352b33f650774b14839d",
          "grade": false,
          "grade_id": "cell-ed4035e5b54cc333",
          "locked": true,
          "schema_version": 3,
          "solution": false,
          "task": false
        }
      },
      "source": [
        "**Question 5.1.** Now we will plot histograms for these new dataframes.  The histogram will have the variable of interest (output variable) on the x axis, n bins corresponding to the n values possible. The y axis will be the _proportion_ of individuals of each subgroup that have that variable of interest.  So the y values for each subgroup will be the number of individuals having a given value divided by the total number of individuals of that subgroup.\n",
        "\n",
        "You can choose how you want to represent the histograms:  separate sub plots side by side, or all on one plot with different colours each, etc.  The axis limits should be same on both plots (same scale) and the plots should have appropriate titles, axis labels, and if needed a legend."
      ]
    },
    {
      "cell_type": "code",
      "execution_count": null,
      "metadata": {
        "deletable": false,
        "id": "e4pHpxGO1yqM",
        "nbgrader": {
          "cell_type": "code",
          "checksum": "9379714d32dd31c294222d64ca29e647",
          "grade": true,
          "grade_id": "cell-83a9e33c859463e5",
          "locked": false,
          "points": 10,
          "schema_version": 3,
          "solution": true,
          "task": false
        }
      },
      "outputs": [],
      "source": [
        "# YOUR CODE HERE\n",
        "raise NotImplementedError()\n",
        "\n",
        "plt.show()"
      ]
    },
    {
      "cell_type": "markdown",
      "metadata": {
        "deletable": false,
        "editable": false,
        "id": "xr4Qd9zMdu45",
        "nbgrader": {
          "cell_type": "markdown",
          "checksum": "09a57e5ff33fee604224b5dc263991bb",
          "grade": false,
          "grade_id": "cell-f4cd68e7997d274e",
          "locked": true,
          "schema_version": 3,
          "solution": false,
          "task": false
        }
      },
      "source": [
        "**Question 5.2.** Describe the two plots, especially any differences you see between them.  What does this tell you about the distribution of the variable of interest with respect to the second sensitive feature?"
      ]
    },
    {
      "cell_type": "markdown",
      "metadata": {
        "deletable": false,
        "id": "8A7JNq8A1yqM",
        "nbgrader": {
          "cell_type": "markdown",
          "checksum": "4902394fb6f9b7b1b4f1a7620be5aafc",
          "grade": true,
          "grade_id": "cell-99474d3674e9ddc6",
          "locked": false,
          "points": 5,
          "schema_version": 3,
          "solution": true,
          "task": false
        }
      },
      "source": [
        "YOUR ANSWER HERE"
      ]
    },
    {
      "cell_type": "markdown",
      "metadata": {
        "deletable": false,
        "editable": false,
        "id": "nh2yQ1JN1yqN",
        "nbgrader": {
          "cell_type": "markdown",
          "checksum": "c046cb85e0bc08657b360cbb9d065a0b",
          "grade": false,
          "grade_id": "cell-0101107d18b96ba2",
          "locked": true,
          "schema_version": 3,
          "solution": false,
          "task": false
        }
      },
      "source": [
        "## Fairness / Bias in the Dataset\n",
        "\n",
        "Now we will develop our own logistic regression model to predict the output given the data and see how it does with respect to fairness metrics.\n",
        "\n",
        "#### Pre-processing\n",
        "We first have some preprocessing to do.\n",
        "\n",
        "Logistic regression is used here as a classification algorithm, so it will give binary outputs. We will use `sklearn`'s logistic regression model which takes numerical input.  Your dataset's features may be categorical variables. If this is the case, we will have to convert the categorical features to numerical features.  We will use [one-hot encoding](https://scikit-learn.org/stable/modules/generated/sklearn.preprocessing.OneHotEncoder.html) for this."
      ]
    },
    {
      "cell_type": "markdown",
      "metadata": {
        "deletable": false,
        "editable": false,
        "id": "eVqdKoI-1yqN",
        "nbgrader": {
          "cell_type": "markdown",
          "checksum": "04915aa47dcd1cfc2a5d0a582a924d20",
          "grade": false,
          "grade_id": "cell-fc7e38607fd6f1f2",
          "locked": true,
          "schema_version": 3,
          "solution": false,
          "task": false
        }
      },
      "source": [
        "**Question 6.** Let's first set up a dataframe for the label, or target values. In the cell below extract that column into a separate dataframe, our target dataframe. Assign your answer to the variable `Y`."
      ]
    },
    {
      "cell_type": "code",
      "execution_count": null,
      "metadata": {
        "deletable": false,
        "id": "VqUicv3Q1yqO",
        "nbgrader": {
          "cell_type": "code",
          "checksum": "681a818bfd9243747bec388c76b82810",
          "grade": false,
          "grade_id": "cell-20fa0ca8b24be477",
          "locked": false,
          "schema_version": 3,
          "solution": true,
          "task": false
        }
      },
      "outputs": [],
      "source": [
        "# YOUR CODE HERE\n",
        "raise NotImplementedError()"
      ]
    },
    {
      "cell_type": "markdown",
      "metadata": {
        "deletable": false,
        "editable": false,
        "id": "yAxxScmG1yqP",
        "nbgrader": {
          "cell_type": "markdown",
          "checksum": "d793213d313468763bfafee60a5839c4",
          "grade": false,
          "grade_id": "cell-8587895ae41a257f",
          "locked": true,
          "schema_version": 3,
          "solution": false,
          "task": false
        }
      },
      "source": [
        "**Question 6.1.** Now Let's set up the remaining data. Create another dataframe named `X` that contains every column *except* the target column."
      ]
    },
    {
      "cell_type": "code",
      "execution_count": null,
      "metadata": {
        "deletable": false,
        "id": "58R7BDGG1yqP",
        "nbgrader": {
          "cell_type": "code",
          "checksum": "f0b05ea2cd776cf753771e716eec79f3",
          "grade": false,
          "grade_id": "cell-42475005b8da1aa4",
          "locked": false,
          "schema_version": 3,
          "solution": true,
          "task": false
        }
      },
      "outputs": [],
      "source": [
        "# YOUR CODE HERE\n",
        "raise NotImplementedError()"
      ]
    },
    {
      "cell_type": "markdown",
      "metadata": {
        "deletable": false,
        "editable": false,
        "id": "52wJ-NZ51yqP",
        "nbgrader": {
          "cell_type": "markdown",
          "checksum": "cde05da30ae69b97b439f051d9caabb4",
          "grade": false,
          "grade_id": "cell-4b8bcb608ae72bc4",
          "locked": true,
          "schema_version": 3,
          "solution": false,
          "task": false
        }
      },
      "source": [
        "**Question 6.2.** Your analysis should only contain the features that you deem necessary. In the next cell, retain only these columns in our features dataframe `X`."
      ]
    },
    {
      "cell_type": "code",
      "execution_count": null,
      "metadata": {
        "deletable": false,
        "id": "XMFXsmAw1yqQ",
        "nbgrader": {
          "cell_type": "code",
          "checksum": "c3ba8130bf4651e37bcef61a714a5ceb",
          "grade": true,
          "grade_id": "cell-47a97f9a59a2347d",
          "locked": false,
          "points": 5,
          "schema_version": 3,
          "solution": true,
          "task": false
        }
      },
      "outputs": [],
      "source": [
        "cols_retain = []\n",
        "# YOUR CODE HERE\n",
        "raise NotImplementedError()"
      ]
    },
    {
      "cell_type": "markdown",
      "metadata": {
        "deletable": false,
        "editable": false,
        "id": "08t8kLNh1yqQ",
        "nbgrader": {
          "cell_type": "markdown",
          "checksum": "430bd9a4988031db9cc202ee1e3a21df",
          "grade": false,
          "grade_id": "cell-f0e29759c74524ff",
          "locked": true,
          "schema_version": 3,
          "solution": false,
          "task": false
        }
      },
      "source": [
        "Since we will use `sklearn`'s logistic regression model, we need all our data to be numerical values.  Let's first examine the column types.\n",
        "\n",
        "Run the following cell to examine the data."
      ]
    },
    {
      "cell_type": "code",
      "execution_count": null,
      "metadata": {
        "deletable": false,
        "editable": false,
        "id": "WodTHVVd1yqR",
        "nbgrader": {
          "cell_type": "code",
          "checksum": "64fe12ebfc10eb11a5969625051db470",
          "grade": false,
          "grade_id": "cell-b696a2c36afd0ea2",
          "locked": true,
          "schema_version": 3,
          "solution": false,
          "task": false
        }
      },
      "outputs": [],
      "source": [
        "X.dtypes"
      ]
    },
    {
      "cell_type": "markdown",
      "metadata": {
        "deletable": false,
        "editable": false,
        "id": "X-cRVK7H1yqR",
        "nbgrader": {
          "cell_type": "markdown",
          "checksum": "73f22e4eb924fef40f36a8a06df9dd6a",
          "grade": false,
          "grade_id": "cell-6dd9b6e50e56f508",
          "locked": true,
          "schema_version": 3,
          "solution": false,
          "task": false
        }
      },
      "source": [
        "**Question 6.3.** A data type of `object` indicates that the column is categorical.  We will need to convert these to numerical.  We will use one hot encoding on the categorical features. We first separate the numerical and categorical featues using `selector`.  Then we transform the categorial features using one hot encoding and we normalize the numerical features using a scalar.  See for instance here for help on this step: <https://scikit-learn.org/stable/auto_examples/compose/plot_column_transformer_mixed_types.html#sphx-glr-auto-examples-compose-plot-column-transformer-mixed-types-py>"
      ]
    },
    {
      "cell_type": "code",
      "execution_count": null,
      "metadata": {
        "deletable": false,
        "id": "FMiEcLmQ1yqR",
        "nbgrader": {
          "cell_type": "code",
          "checksum": "2ab2534c479a3fcffef408009b7f0cb2",
          "grade": true,
          "grade_id": "cell-de2621bfb172db96",
          "locked": false,
          "points": 10,
          "schema_version": 3,
          "solution": true,
          "task": false
        }
      },
      "outputs": [],
      "source": [
        "# we will need the following modules\n",
        "from sklearn.compose import make_column_selector as selector\n",
        "from sklearn.preprocessing import OneHotEncoder, StandardScaler\n",
        "from sklearn.compose import ColumnTransformer\n",
        "\n",
        "# YOUR CODE HERE\n",
        "raise NotImplementedError()"
      ]
    },
    {
      "cell_type": "markdown",
      "metadata": {
        "deletable": false,
        "editable": false,
        "id": "hWYXthRN1yqT",
        "nbgrader": {
          "cell_type": "markdown",
          "checksum": "3a07d8c496379c4534c9de0f03bba670",
          "grade": false,
          "grade_id": "cell-4e6337d1c7743414",
          "locked": true,
          "schema_version": 3,
          "solution": false,
          "task": false
        }
      },
      "source": [
        "**Question 6.4.** Now we set up the pipeline for our model.  You can refer to the url provided above for help with this step.  You may also need to set `max_iter` to make sure the model converges. Assign your answer to the variable `model`.\n"
      ]
    },
    {
      "cell_type": "code",
      "execution_count": null,
      "metadata": {
        "deletable": false,
        "id": "_ecpohDU1yqT",
        "nbgrader": {
          "cell_type": "code",
          "checksum": "ac348c9a0d94511ec6cb3b50ec88ab14",
          "grade": true,
          "grade_id": "cell-49c6d3a04670e438",
          "locked": false,
          "points": 6,
          "schema_version": 3,
          "solution": true,
          "task": false
        }
      },
      "outputs": [],
      "source": [
        "# make sure you import the models needed for this step\n",
        "# YOUR CODE HERE\n",
        "raise NotImplementedError()"
      ]
    },
    {
      "cell_type": "markdown",
      "metadata": {
        "deletable": false,
        "editable": false,
        "id": "CvFxidXx1yqU",
        "nbgrader": {
          "cell_type": "markdown",
          "checksum": "58346e7f0e368a0f54aa5db9917d64b8",
          "grade": false,
          "grade_id": "cell-eb81c8126be6d5e7",
          "locked": true,
          "schema_version": 3,
          "solution": false,
          "task": false
        }
      },
      "source": [
        "**Question 6.5.** Now split your dataset into train and test datasets, with the test set being 25% of the whole dataset. Assign your answers to `X_train`, `X_test`, `Y_train`, `Y_test`."
      ]
    },
    {
      "cell_type": "code",
      "execution_count": null,
      "metadata": {
        "deletable": false,
        "id": "0uDUKdrx1yqU",
        "nbgrader": {
          "cell_type": "code",
          "checksum": "4c6d64338ed103b520e6aaa6f8af3e55",
          "grade": true,
          "grade_id": "cell-5d3b4432548625fa",
          "locked": false,
          "points": 5,
          "schema_version": 3,
          "solution": true,
          "task": false
        }
      },
      "outputs": [],
      "source": [
        "# import the module\n",
        "from sklearn.model_selection import train_test_split\n",
        "\n",
        "# YOUR CODE HERE\n",
        "raise NotImplementedError()"
      ]
    },
    {
      "cell_type": "code",
      "execution_count": null,
      "metadata": {
        "deletable": false,
        "editable": false,
        "id": "sbkv-ODH1yqV",
        "nbgrader": {
          "cell_type": "code",
          "checksum": "2c53cd998ae0744f1b11a96860d0c23e",
          "grade": false,
          "grade_id": "cell-bba9505f8fc2af6a",
          "locked": true,
          "schema_version": 3,
          "solution": false,
          "task": false
        }
      },
      "outputs": [],
      "source": [
        "# now we run the logistic regression we have set up\n",
        "# Just run this cell\n",
        "\n",
        "model.fit(X_train, Y_train)"
      ]
    },
    {
      "cell_type": "markdown",
      "metadata": {
        "deletable": false,
        "editable": false,
        "id": "oaqd49t_1yqV",
        "nbgrader": {
          "cell_type": "markdown",
          "checksum": "6e095e047539d246a5de01a5daa886ae",
          "grade": false,
          "grade_id": "cell-c78a74d1017bb507",
          "locked": true,
          "schema_version": 3,
          "solution": false,
          "task": false
        }
      },
      "source": [
        "**Question 6.6.** Let's now predict on the test set and see what the performance metrics are."
      ]
    },
    {
      "cell_type": "code",
      "execution_count": null,
      "metadata": {
        "deletable": false,
        "id": "zl2YOlw11yqW",
        "nbgrader": {
          "cell_type": "code",
          "checksum": "06898ea0ff6e15056a608a2fd16bd0e3",
          "grade": false,
          "grade_id": "cell-1761bee9d7c76c2f",
          "locked": false,
          "schema_version": 3,
          "solution": true,
          "task": false
        }
      },
      "outputs": [],
      "source": [
        "## write code to run the model on the test set;\n",
        "## after running this cell, Y_test holds the true class labels for the test set\n",
        "## set Y_pred to be the predicted labels\n",
        "\n",
        "# YOUR CODE HERE\n",
        "raise NotImplementedError()"
      ]
    },
    {
      "cell_type": "code",
      "execution_count": null,
      "metadata": {
        "deletable": false,
        "editable": false,
        "id": "Q5S8fYZrdu4-",
        "nbgrader": {
          "cell_type": "code",
          "checksum": "96ab8de99f32a6d937098dee96c31aa9",
          "grade": true,
          "grade_id": "cell-dfaf3f0002c0da31",
          "locked": true,
          "points": 2,
          "schema_version": 3,
          "solution": false,
          "task": false
        }
      },
      "outputs": [],
      "source": []
    },
    {
      "cell_type": "markdown",
      "metadata": {
        "deletable": false,
        "editable": false,
        "id": "lVuXt4Tq1yqX",
        "nbgrader": {
          "cell_type": "markdown",
          "checksum": "530e00a137fcc2cacc7f4b91320c6738",
          "grade": false,
          "grade_id": "cell-da8005c9792de3b3",
          "locked": true,
          "schema_version": 3,
          "solution": false,
          "task": false
        }
      },
      "source": [
        "### Fairness metrics\n",
        "\n",
        "Let's now examine the fairness metrics of this classifier.\n",
        "\n",
        "Let's first convert `Y_pred` into a DataFrame for use later."
      ]
    },
    {
      "cell_type": "code",
      "execution_count": null,
      "metadata": {
        "deletable": false,
        "editable": false,
        "id": "e8aWh7VB1yqX",
        "nbgrader": {
          "cell_type": "code",
          "checksum": "2b7283120873f1d00c2247a089e92f8e",
          "grade": false,
          "grade_id": "cell-00651bce84e54b3f",
          "locked": true,
          "schema_version": 3,
          "solution": false,
          "task": false
        }
      },
      "outputs": [],
      "source": [
        "Y_pred = pd.DataFrame(Y_pred, Y_test.index)\n",
        "Y_pred.head()"
      ]
    },
    {
      "cell_type": "markdown",
      "metadata": {
        "deletable": false,
        "editable": false,
        "id": "SomD0wB5du4-",
        "nbgrader": {
          "cell_type": "markdown",
          "checksum": "79742f8f8cd65f787fa2590cfbbd59b7",
          "grade": false,
          "grade_id": "cell-b1ee5297b337d03e",
          "locked": true,
          "schema_version": 3,
          "solution": false,
          "task": false
        }
      },
      "source": [
        "**Question 7.** We will first extract the sensitive features into a new dataframe, `A`.  Since we are examining results on the test set, we extract this from `X_test`."
      ]
    },
    {
      "cell_type": "code",
      "execution_count": null,
      "metadata": {
        "deletable": false,
        "editable": false,
        "id": "yMbJ7mBY1yqX",
        "nbgrader": {
          "cell_type": "code",
          "checksum": "8f8f40b62854c39be8cb01ea66e244b0",
          "grade": false,
          "grade_id": "cell-0f174b417232da98",
          "locked": true,
          "schema_version": 3,
          "solution": false,
          "task": false
        }
      },
      "outputs": [],
      "source": [
        "# Just run this cell\n",
        "# we will import packages we may need\n",
        "from sklearn.metrics import confusion_matrix"
      ]
    },
    {
      "cell_type": "code",
      "execution_count": null,
      "metadata": {
        "deletable": false,
        "id": "qw7fsm6V1yqY",
        "nbgrader": {
          "cell_type": "code",
          "checksum": "9a3070993317661dd4bbec341c3f4149",
          "grade": true,
          "grade_id": "cell-4fbae6c5db541d85",
          "locked": false,
          "points": 2,
          "schema_version": 3,
          "solution": true,
          "task": false
        }
      },
      "outputs": [],
      "source": [
        "# In this cell, extract the sensitive features A\n",
        "\n",
        "# YOUR CODE HERE\n",
        "raise NotImplementedError()"
      ]
    },
    {
      "cell_type": "markdown",
      "metadata": {
        "deletable": false,
        "editable": false,
        "id": "8K3zhMyc1yqZ",
        "nbgrader": {
          "cell_type": "markdown",
          "checksum": "97449fd0e5d1f8b84df5da72dfca59fa",
          "grade": false,
          "grade_id": "cell-01b2680145e08a32",
          "locked": true,
          "schema_version": 3,
          "solution": false,
          "task": false
        }
      },
      "source": [
        "**Question 7.1.** Now let's write some functions to calculate the fairness metrics.  In particular, we want to calculate the true positive and false positive rates, and the positive label rate."
      ]
    },
    {
      "cell_type": "code",
      "execution_count": null,
      "metadata": {
        "deletable": false,
        "id": "J8ECyfW51yqa",
        "nbgrader": {
          "cell_type": "code",
          "checksum": "b6a60ad8152dc59569c9a61e63897cb6",
          "grade": true,
          "grade_id": "cell-bb7712e2586f909d",
          "locked": false,
          "points": 10,
          "schema_version": 3,
          "solution": true,
          "task": false
        }
      },
      "outputs": [],
      "source": [
        "def tpr_metric(y_true, y_pred,x, s_feature, s_value):\n",
        "    '''\n",
        "    Parameters\n",
        "    ----------\n",
        "    y_true : DataFrame\n",
        "        the true labels\n",
        "    y_pred : DataFrame\n",
        "        the predicted labels\n",
        "    x : DataFrame\n",
        "        the dataset containing all features - should correspond to y_true\n",
        "    s_feature : string\n",
        "        Name of the sensitive feature on which we calculate the metric\n",
        "    s_value : string\n",
        "        Value of the senstivie feature on which we output the metrics\n",
        "\n",
        "    Returns\n",
        "    -------\n",
        "    tpr : float\n",
        "        The true positive rate for the individuals with s_feature = s_value\n",
        "\n",
        "    For example, calling tpr_metric(Y_test, Y_pred, x, \"condition\",\"asthma\") should return\n",
        "    the true positive rate for people with asthma.\n",
        "    Note that you need x as an input parameter so that you capture the correct indices in y\n",
        "    that correspond to s_feature=s_value in the x array.\n",
        "    y_true and x should correspond to the same rows, for example these could be Y_test and X_test\n",
        "    '''\n",
        "\n",
        "    tpr=0\n",
        "\n",
        "    # YOUR CODE HERE\n",
        "    raise NotImplementedError()\n",
        "    return tpr"
      ]
    },
    {
      "cell_type": "code",
      "execution_count": null,
      "metadata": {
        "deletable": false,
        "id": "Tcl3BMDC1yqa",
        "nbgrader": {
          "cell_type": "code",
          "checksum": "e1ccff81ac7d1a491adf4ede21ad4e90",
          "grade": true,
          "grade_id": "cell-8be2bd8fa8f7e97e",
          "locked": false,
          "points": 10,
          "schema_version": 3,
          "solution": true,
          "task": false
        }
      },
      "outputs": [],
      "source": [
        "def fpr_metric(y_true, y_pred,x, s_feature, s_value):\n",
        "    '''\n",
        "    Parameters\n",
        "    ----------\n",
        "    y_true : DataFrame\n",
        "        the true labels\n",
        "    y_pred : DataFrame\n",
        "        the predicted labels\n",
        "    x : DataFrame\n",
        "        the dataset containing all features - should correspond to y_true\n",
        "    s_feature : string\n",
        "        Name of the sensitive feature on which we calculate the metric\n",
        "    s_value : string\n",
        "        Value of the senstivie feature on which we output the metrics\n",
        "\n",
        "    Returns\n",
        "    -------\n",
        "    fpr : float\n",
        "        The false positive rate for the individuals with s_feature = s_value\n",
        "\n",
        "    For example, calling fpr_metric(Y_test, Y_pred, x, \"condition\",\"asthma\") should return\n",
        "    the false positive rate for people with asthma.\n",
        "    Note that you need x as an input parameter so that you capture the correct indices in y\n",
        "    that correspond to s_feature=s_value in the x array.\n",
        "    y_true and x should correspond to the same rows, for example these could be Y_test and X_test\n",
        "    '''\n",
        "\n",
        "    fpr=0\n",
        "\n",
        "    # YOUR CODE HERE\n",
        "    raise NotImplementedError()\n",
        "    return fpr"
      ]
    },
    {
      "cell_type": "code",
      "execution_count": null,
      "metadata": {
        "deletable": false,
        "id": "owlVuTdo1yqa",
        "nbgrader": {
          "cell_type": "code",
          "checksum": "0c920f1c33e420719bf68c2fa685b35e",
          "grade": true,
          "grade_id": "cell-3e103182ac7f833b",
          "locked": false,
          "points": 10,
          "schema_version": 3,
          "solution": true,
          "task": false
        }
      },
      "outputs": [],
      "source": [
        "def poslabel_metric(y_pred,x, s_feature, s_value):\n",
        "    '''\n",
        "    Parameters\n",
        "    ----------\n",
        "    y_pred : DataFrame\n",
        "        the predicted labels\n",
        "    x : DataFrame\n",
        "        the dataset containing all features - should correspond to y_true\n",
        "    s_feature : string\n",
        "        Name of the sensitive feature on which we calculate the metric\n",
        "    s_value : string\n",
        "        Value of the senstivie feature on which we output the metrics\n",
        "\n",
        "    Returns\n",
        "    -------\n",
        "    poslabel : float\n",
        "        The rate of a positive label for the individuals with s_feature = s_value\n",
        "        This is P[y_pred=1|s_featue=s_value]\n",
        "\n",
        "    For example, calling poslabel_metric(y_pred,x, \"condition\",\"asthma\") should return\n",
        "    the rate of positive labels for people with asthma.\n",
        "    Note that you need x as an input parameter so that you capture the correct indices in y\n",
        "    that correspond to s_feature=s_value in the x array.\n",
        "    y_pred and x should correspond to the same rows, for example these could be Y_pred and X_test\n",
        "    '''\n",
        "\n",
        "    poslabel=0\n",
        "\n",
        "    # YOUR CODE HERE\n",
        "    raise NotImplementedError()\n",
        "    return poslabel"
      ]
    },
    {
      "cell_type": "markdown",
      "metadata": {
        "deletable": false,
        "editable": false,
        "id": "hdBcgwrB1yqb",
        "nbgrader": {
          "cell_type": "markdown",
          "checksum": "335440231b9562c0130ad078311025d4",
          "grade": false,
          "grade_id": "cell-9cd53452e9de7912",
          "locked": true,
          "schema_version": 3,
          "solution": false,
          "task": false
        }
      },
      "source": [
        "You now have the functions necessary to determine the fairness metrics.\n",
        "We will examine the difference in the parity definitions.\n",
        "Specifically, we look at the following:\n",
        "- demographic parity difference:  the gap in demographic parity between two given subgroups.  Here, it means the difference in the rate of positive label ( Pr[Y_pred = 1 | A=1] - Pr[Y_pred = 1 | A=0] between subgroups 1 and 0.)\n",
        "- equal opportunity difference:  the difference in true positive rates\n",
        "- equalized odds difference:  the difference in true positive rates and false positive rates. The output here is a vector, with the first element in the vector being the difference in true positive rates and the second element being the difference in false positive rates."
      ]
    },
    {
      "cell_type": "markdown",
      "metadata": {
        "deletable": false,
        "editable": false,
        "id": "0WiVMN6z1yqb",
        "nbgrader": {
          "cell_type": "markdown",
          "checksum": "adb4f26e9194c1a11145c093e784a81c",
          "grade": false,
          "grade_id": "cell-bbd72a52a13f4794",
          "locked": true,
          "schema_version": 3,
          "solution": false,
          "task": false
        }
      },
      "source": [
        "**Question 7.2.** For each of the following, write code to compute the metrics and write in text form your explanation of what you see - describe the metrics.  Is our model fair?  Why or why not?\n",
        "\n",
        "1. First sensitive feature: subgroup 1 vs subgroup 2 </br  >\n",
        "    a. Demographic parity difference </br  >\n",
        "    b. Equal opportunity diference </br  >\n",
        "    c. Equalized odds difference\n",
        "2. Second sensitive feature:  subgroup a vs subgroup b </br  >\n",
        "    a. Demographic parity difference </br  >\n",
        "    b. Equal opportunity diference </br  >\n",
        "    c. Equalized odds difference </br  >\n",
        "3. Age:  young subgroup vs old subgroup (choose your own age ranges) </br  >\n",
        "    a. Demographic parity difference </br  >\n",
        "    b. Equal opportunity diference </br  >\n",
        "    c. Equalized odds difference"
      ]
    },
    {
      "cell_type": "code",
      "execution_count": null,
      "metadata": {
        "deletable": false,
        "id": "TPdAfAEY1yqc",
        "nbgrader": {
          "cell_type": "code",
          "checksum": "ccf027394dd4253cbfcf4ec6bea2ac7a",
          "grade": true,
          "grade_id": "cell-35214af1dc698642",
          "locked": false,
          "points": 6,
          "schema_version": 3,
          "solution": true,
          "task": false
        }
      },
      "outputs": [],
      "source": [
        "# Code and explanation for 1 here\n",
        "# Demographic parity difference\n",
        "# YOUR CODE HERE\n",
        "raise NotImplementedError()\n",
        "print(\"Demographic Parity:\", demographic_parity)\n",
        "\n",
        "#Equal Opportunity Difference\n",
        "# YOUR CODE HERE\n",
        "raise NotImplementedError()\n",
        "print(\"Equal Opportunity Difference:\", eq_opp_diff)\n",
        "\n",
        "#Equalized odds difference\n",
        "# YOUR CODE HERE\n",
        "raise NotImplementedError()\n",
        "print(\"Equalized Odds Differences. TP, FP:\", [eq_opp_diff, fpr_diff])"
      ]
    },
    {
      "cell_type": "markdown",
      "metadata": {
        "deletable": false,
        "editable": false,
        "id": "CCld8E08du4_",
        "nbgrader": {
          "cell_type": "markdown",
          "checksum": "4ffe8f31137940a1a94e2b3cc0b91786",
          "grade": false,
          "grade_id": "cell-f704b7694651ccb7",
          "locked": true,
          "schema_version": 3,
          "solution": false,
          "task": false
        }
      },
      "source": [
        "Write your explanation below:"
      ]
    },
    {
      "cell_type": "markdown",
      "metadata": {
        "deletable": false,
        "id": "eR_BiiyHdu4_",
        "nbgrader": {
          "cell_type": "markdown",
          "checksum": "25860304599669687dc93c3571345d7f",
          "grade": true,
          "grade_id": "cell-e8bbab651d3fd641",
          "locked": false,
          "points": 10,
          "schema_version": 3,
          "solution": true,
          "task": false
        }
      },
      "source": [
        "YOUR ANSWER HERE"
      ]
    },
    {
      "cell_type": "code",
      "execution_count": null,
      "metadata": {
        "deletable": false,
        "id": "Zr5O1YLo1yqc",
        "nbgrader": {
          "cell_type": "code",
          "checksum": "c8a529dfafe13af23d5af34828561ec3",
          "grade": true,
          "grade_id": "cell-bbcd431560d40657",
          "locked": false,
          "points": 6,
          "schema_version": 3,
          "solution": true,
          "task": false
        }
      },
      "outputs": [],
      "source": [
        "# Code and explanation for 2 here\n",
        "# Demographic parity difference\n",
        "# YOUR CODE HERE\n",
        "raise NotImplementedError()\n",
        "print(\"Demographic Parity:\", demographic_parity)\n",
        "\n",
        "#Equal Opportunity Difference\n",
        "# YOUR CODE HERE\n",
        "raise NotImplementedError()\n",
        "print(\"Equal Opportunity Difference:\", eq_opp_diff)\n",
        "\n",
        "#Equalized odds difference\n",
        "# YOUR CODE HERE\n",
        "raise NotImplementedError()\n",
        "print(\"Equalized Odds Differences. TP, FP:\", [eq_opp_diff, fpr_diff])"
      ]
    },
    {
      "cell_type": "markdown",
      "metadata": {
        "deletable": false,
        "editable": false,
        "id": "SmocFNskdu4_",
        "nbgrader": {
          "cell_type": "markdown",
          "checksum": "542e1834205eb5364264eed14d884d4e",
          "grade": false,
          "grade_id": "cell-a1bf4b872c8beb65",
          "locked": true,
          "schema_version": 3,
          "solution": false,
          "task": false
        }
      },
      "source": [
        "Write your explanation below:"
      ]
    },
    {
      "cell_type": "markdown",
      "metadata": {
        "deletable": false,
        "id": "B1Q6WWciMRDY",
        "nbgrader": {
          "cell_type": "markdown",
          "checksum": "58040e914b8a907d7c6c02373f75e953",
          "grade": true,
          "grade_id": "cell-cc6ddb7d332610c3",
          "locked": false,
          "points": 10,
          "schema_version": 3,
          "solution": true,
          "task": false
        }
      },
      "source": [
        "YOUR ANSWER HERE"
      ]
    },
    {
      "cell_type": "code",
      "execution_count": null,
      "metadata": {
        "deletable": false,
        "id": "FHXcBfds1yqc",
        "nbgrader": {
          "cell_type": "code",
          "checksum": "b6b59587a197cd00f2147d95341e18cc",
          "grade": true,
          "grade_id": "cell-c67bc5db359dd147",
          "locked": false,
          "points": 6,
          "schema_version": 3,
          "solution": true,
          "task": false
        }
      },
      "outputs": [],
      "source": [
        "# Code and explanation for 3 here\n",
        "# Demographic parity difference\n",
        "# YOUR CODE HERE\n",
        "raise NotImplementedError()\n",
        "print(\"Demographic Parity:\", demographic_parity)\n",
        "\n",
        "#Equal Opportunity Difference\n",
        "# YOUR CODE HERE\n",
        "raise NotImplementedError()\n",
        "print(\"Equal Opportunity Difference:\", eq_opp_diff)\n",
        "\n",
        "#Equalized odds difference (tp is already calculated as part of EOD)\n",
        "# YOUR CODE HERE\n",
        "raise NotImplementedError()\n",
        "print(\"Equalized Odds Differences. TP, FP:\", [eq_opp_diff, fpr_diff])"
      ]
    },
    {
      "cell_type": "markdown",
      "metadata": {
        "deletable": false,
        "editable": false,
        "id": "atjkpd8vdu5A",
        "nbgrader": {
          "cell_type": "markdown",
          "checksum": "304bd769d2c47c196cb028558016d100",
          "grade": false,
          "grade_id": "cell-3525a2a956db4055",
          "locked": true,
          "schema_version": 3,
          "solution": false,
          "task": false
        }
      },
      "source": [
        "Write your explanation below:"
      ]
    },
    {
      "cell_type": "markdown",
      "metadata": {
        "deletable": false,
        "id": "G8vP25LUM6Pf",
        "nbgrader": {
          "cell_type": "markdown",
          "checksum": "a2eb3de9a6bf895186a11b8848881304",
          "grade": true,
          "grade_id": "cell-c7acc6950a386d7e",
          "locked": false,
          "points": 10,
          "schema_version": 3,
          "solution": true,
          "task": false
        }
      },
      "source": [
        "YOUR ANSWER HERE"
      ]
    },
    {
      "cell_type": "markdown",
      "metadata": {
        "deletable": false,
        "editable": false,
        "id": "oiP_EJobdu5A",
        "nbgrader": {
          "cell_type": "markdown",
          "checksum": "a99b454c50f7e9878aee9dce2b0af662",
          "grade": false,
          "grade_id": "cell-691206572ce0abce",
          "locked": true,
          "schema_version": 3,
          "solution": false,
          "task": false
        }
      },
      "source": [
        "**Question 7.3.** Finally, evaluate the performance of your classifier using a classification report. Comment on each metric and what it means in terms of algorithmic fairness."
      ]
    },
    {
      "cell_type": "code",
      "execution_count": null,
      "metadata": {
        "deletable": false,
        "id": "aEDS68zW1yqh",
        "nbgrader": {
          "cell_type": "code",
          "checksum": "08f4e16ab12b21a6d67df405e3f03ab3",
          "grade": true,
          "grade_id": "cell-7609f60b9c1cffdd",
          "locked": false,
          "points": 2,
          "schema_version": 3,
          "solution": true,
          "task": false
        }
      },
      "outputs": [],
      "source": [
        "from sklearn.metrics import classification_report\n",
        "# YOUR CODE HERE\n",
        "raise NotImplementedError()"
      ]
    },
    {
      "cell_type": "markdown",
      "metadata": {
        "deletable": false,
        "id": "pD7WcGlrdu5A",
        "nbgrader": {
          "cell_type": "markdown",
          "checksum": "5b7ab354ba0bb18bb37311fa15833712",
          "grade": true,
          "grade_id": "cell-6cf53c984b2ec8b2",
          "locked": false,
          "points": 10,
          "schema_version": 3,
          "solution": true,
          "task": false
        }
      },
      "source": [
        "YOUR ANSWER HERE"
      ]
    },
    {
      "cell_type": "markdown",
      "metadata": {
        "deletable": false,
        "editable": false,
        "id": "-NnUXDYzdu5A",
        "nbgrader": {
          "cell_type": "markdown",
          "checksum": "b25f4ad3b8acf39758629ef56b174c7f",
          "grade": false,
          "grade_id": "cell-8d7cacd8870a2e0c",
          "locked": true,
          "schema_version": 3,
          "solution": false,
          "task": false
        }
      },
      "source": [
        "# Rubric\n",
        "\n",
        "| Question | Points|                   \n",
        "|----------|----------|\n",
        "| 1.   | 5  |\n",
        "| 1.1.    | 10   |\n",
        "| 2.    | 10   |\n",
        "| 3.    | 5   |\n",
        "| 3.1.    | 2  |\n",
        "| 4.  | 5   |\n",
        "| 4.1.    | 10   |\n",
        "| 4.2   | 5   |\n",
        "| 5.    | 5   |\n",
        "| 5.1.   | 10   |\n",
        "| 5.2.    | 5   |\n",
        "| 6.  | 2  |\n",
        "| 6.1.   | 2   |\n",
        "| 6.2.   | 5  |\n",
        "| 6.3.    | 10   |\n",
        "| 6.4.    | 6  |\n",
        "| 6.5.    | 5 |\n",
        "| 6.6.  | 2  |\n",
        "| 7.    | 2   |\n",
        "| 7.1.   | 30   |\n",
        "| 7.2.  | 48  |\n",
        "| 7.3.   | 12   |  \n",
        "| Total:   | 196   |\n",
        "\n"
      ]
    }
  ],
  "metadata": {
    "colab": {
      "include_colab_link": true,
      "provenance": []
    },
    "kernelspec": {
      "display_name": "Python 3 (ipykernel)",
      "language": "python",
      "name": "python3"
    },
    "language_info": {
      "codemirror_mode": {
        "name": "ipython",
        "version": 3
      },
      "file_extension": ".py",
      "mimetype": "text/x-python",
      "name": "python",
      "nbconvert_exporter": "python",
      "pygments_lexer": "ipython3",
      "version": "3.12.2"
    }
  },
  "nbformat": 4,
  "nbformat_minor": 0
}
